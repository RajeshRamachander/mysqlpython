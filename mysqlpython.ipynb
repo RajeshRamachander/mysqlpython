{
 "cells": [
  {
   "cell_type": "code",
   "execution_count": 195,
   "metadata": {},
   "outputs": [],
   "source": [
    "import pymysql\n",
    "import pandas as pd\n",
    "import matplotlib.pyplot as plt\n",
    "import seaborn as sns"
   ]
  },
  {
   "cell_type": "code",
   "execution_count": 196,
   "metadata": {},
   "outputs": [],
   "source": [
    "# Open database connection\n",
    "db = pymysql.connect(\"localhost\",\"root\",\"password\",'sakila' )\n"
   ]
  },
  {
   "cell_type": "code",
   "execution_count": 197,
   "metadata": {},
   "outputs": [],
   "source": [
    "\n",
    "# prepare a cursor object using cursor() method\n",
    "cursor = db.cursor()\n"
   ]
  },
  {
   "cell_type": "code",
   "execution_count": 198,
   "metadata": {},
   "outputs": [
    {
     "data": {
      "text/plain": [
       "1"
      ]
     },
     "execution_count": 198,
     "metadata": {},
     "output_type": "execute_result"
    }
   ],
   "source": [
    "\n",
    "# execute SQL query using execute() method.\n",
    "cursor.execute(\"SELECT VERSION()\")\n"
   ]
  },
  {
   "cell_type": "code",
   "execution_count": 199,
   "metadata": {},
   "outputs": [
    {
     "name": "stdout",
     "output_type": "stream",
     "text": [
      "Database version : 8.0.21 \n"
     ]
    }
   ],
   "source": [
    "\n",
    "# Fetch a single row using fetchone() method.\n",
    "data = cursor.fetchone()\n",
    "print (\"Database version : %s \" % data)\n"
   ]
  },
  {
   "cell_type": "markdown",
   "metadata": {},
   "source": [
    "# Theme\n",
    "You are the store Data Analyst and Kirk is an investor \n",
    "looking to buy the stores. He has a few queries that would like \n",
    "to get answers for.\n"
   ]
  },
  {
   "cell_type": "markdown",
   "metadata": {},
   "source": [
    "\n",
    "1. Kirk Gopal is looking to meet the staff in each store, let him know the address to meet them"
   ]
  },
  {
   "cell_type": "code",
   "execution_count": 200,
   "metadata": {},
   "outputs": [],
   "source": [
    "df = pd.read_sql('''\n",
    "SELECT \n",
    "\tstaff.first_name AS manager_first_name, \n",
    "    staff.last_name AS manager_last_name,\n",
    "    address.address, \n",
    "    address.district, \n",
    "    city.city, \n",
    "    country.country\n",
    "\n",
    "FROM store\n",
    "\tLEFT JOIN staff ON store.manager_staff_id = staff.staff_id\n",
    "    LEFT JOIN address ON store.address_id = address.address_id\n",
    "    LEFT JOIN city ON address.city_id = city.city_id\n",
    "    LEFT JOIN country ON city.country_id = country.country_id\n",
    "\n",
    "''', db);\n"
   ]
  },
  {
   "cell_type": "code",
   "execution_count": 201,
   "metadata": {},
   "outputs": [
    {
     "name": "stdout",
     "output_type": "stream",
     "text": [
      "  manager_first_name manager_last_name             address district        city    country\n",
      "0               Mike           Hillyer   47 MySakila Drive  Alberta  Lethbridge     Canada\n",
      "1                Jon          Stephens  28 MySQL Boulevard      QLD   Woodridge  Australia\n"
     ]
    }
   ],
   "source": [
    "print(df)\n",
    "\n"
   ]
  },
  {
   "cell_type": "markdown",
   "metadata": {},
   "source": [
    "2. Kirk want to understand the inventory is in terms of replacement cost. He wants to see the impact \n",
    "if a certain category of film became unpopular at a certain store. He would like to see the number of films, \n",
    "as well as the average replacement cost, and total replacement cost, sliced by store and film category. \n"
   ]
  },
  {
   "cell_type": "code",
   "execution_count": 202,
   "metadata": {},
   "outputs": [],
   "source": [
    "df = pd.read_sql('''\n",
    "SELECT \n",
    "\tstore_id, \n",
    "    category.name AS category, \n",
    "\tCOUNT(inventory.inventory_id) AS films, \n",
    "    AVG(film.replacement_cost) AS avg_replacement_cost, \n",
    "    SUM(film.replacement_cost) AS total_replacement_cost\n",
    "    \n",
    "FROM inventory\n",
    "\tLEFT JOIN film\n",
    "\t\tON inventory.film_id = film.film_id\n",
    "\tLEFT JOIN film_category\n",
    "\t\tON film.film_id = film_category.film_id\n",
    "\tLEFT JOIN category\n",
    "\t\tON category.category_id = film_category.category_id\n",
    "\n",
    "GROUP BY \n",
    "\tstore_id, \n",
    "    category.name\n",
    "    \n",
    "ORDER BY\n",
    "    store_id,\n",
    "    category.name,\n",
    "\tSUM(film.replacement_cost) DESC\n",
    "''', db);\n"
   ]
  },
  {
   "cell_type": "code",
   "execution_count": 203,
   "metadata": {},
   "outputs": [
    {
     "name": "stdout",
     "output_type": "stream",
     "text": [
      "    store_id     category  films  avg_replacement_cost  total_replacement_cost\n",
      "0          1       Action    169             21.191183                 3581.31\n",
      "1          1    Animation    161             20.387516                 3282.39\n",
      "2          1     Children    129             19.990000                 2578.71\n",
      "3          1     Classics    131             20.615954                 2700.69\n",
      "4          1       Comedy    142             19.440704                 2760.58\n",
      "5          1  Documentary    130             20.728462                 2694.70\n",
      "6          1        Drama    162             21.934444                 3553.38\n",
      "7          1       Family    157             20.537771                 3224.43\n",
      "8          1      Foreign    153             18.558627                 2839.47\n",
      "9          1        Games    128             21.130625                 2704.72\n",
      "10         1       Horror    112             19.748929                 2211.88\n",
      "11         1        Music    122             19.285082                 2352.78\n",
      "12         1          New    148             19.267027                 2851.52\n",
      "13         1       Sci-Fi    149             21.795369                 3247.51\n",
      "14         1       Sports    163             20.578957                 3354.37\n",
      "15         1       Travel    114             19.884737                 2266.86\n",
      "16         2       Action    143             21.500490                 3074.57\n",
      "17         2    Animation    174             19.995747                 3479.26\n",
      "18         2     Children    140             19.504286                 2730.60\n",
      "19         2     Classics    139             21.292158                 2959.61\n",
      "20         2       Comedy    127             18.871890                 2396.73\n",
      "21         2  Documentary    164             20.544878                 3369.36\n",
      "22         2        Drama    138             21.461014                 2961.62\n",
      "23         2       Family    153             19.512876                 2985.47\n",
      "24         2      Foreign    147             18.636259                 2739.53\n",
      "25         2        Games    148             20.773784                 3074.52\n",
      "26         2       Horror    136             19.563529                 2660.64\n",
      "27         2        Music    110             18.999091                 2089.90\n",
      "28         2          New    127             20.029370                 2543.73\n",
      "29         2       Sci-Fi    163             20.493067                 3340.37\n",
      "30         2       Sports    181             20.697182                 3746.19\n",
      "31         2       Travel    121             18.709008                 2263.79\n"
     ]
    }
   ],
   "source": [
    "print(df)"
   ]
  },
  {
   "cell_type": "code",
   "execution_count": 204,
   "metadata": {},
   "outputs": [
    {
     "data": {
      "text/plain": [
       "Text(0, 0.5, 'Frequency')"
      ]
     },
     "execution_count": 204,
     "metadata": {},
     "output_type": "execute_result"
    },
    {
     "data": {
      "image/png": "[encoded data removed]",
      "text/plain": [
       "<Figure size 432x288 with 1 Axes>"
      ]
     },
     "metadata": {
      "needs_background": "light"
     },
     "output_type": "display_data"
    }
   ],
   "source": [
    "df['avg_replacement_cost'].hist(bins =11, grid = False, xlabelsize = 12)\n",
    "plt.xlabel('Average Cost',fontsize = 15)\n",
    "plt.ylabel('Frequency',fontsize = 15)"
   ]
  },
  {
   "cell_type": "markdown",
   "metadata": {},
   "source": [
    "\n",
    "3. Kirk wants to the customer demographics. Please provide a list \n",
    "of all customer names, which store they go to, whether or not they \n",
    "are currently active, and their full addresses. "
   ]
  },
  {
   "cell_type": "code",
   "execution_count": 205,
   "metadata": {},
   "outputs": [],
   "source": [
    "df = pd.read_sql('''\n",
    "SELECT \n",
    "\tcustomer.first_name, \n",
    "    customer.last_name, \n",
    "    customer.store_id,\n",
    "    customer.active, \n",
    "    address.address, \n",
    "    city.city, \n",
    "    country.country\n",
    "\n",
    "FROM customer\n",
    "\tLEFT JOIN address ON customer.address_id = address.address_id\n",
    "    LEFT JOIN city ON address.city_id = city.city_id\n",
    "    LEFT JOIN country ON city.country_id = country.country_id\n",
    ";\n",
    "\n",
    "''', db);\n"
   ]
  },
  {
   "cell_type": "code",
   "execution_count": 206,
   "metadata": {},
   "outputs": [
    {
     "name": "stdout",
     "output_type": "stream",
     "text": [
      "    first_name  last_name  store_id  active                   address            city        country\n",
      "0         MARY      SMITH         1       1            1913 Hanoi Way          Sasebo          Japan\n",
      "1     PATRICIA    JOHNSON         1       1          1121 Loja Avenue  San Bernardino  United States\n",
      "2        LINDA   WILLIAMS         1       1         692 Joliet Street         Athenai         Greece\n",
      "3      BARBARA      JONES         2       1          1566 Inegl Manor        Myingyan        Myanmar\n",
      "4    ELIZABETH      BROWN         1       1           53 Idfu Parkway          Nantou         Taiwan\n",
      "..         ...        ...       ...     ...                       ...             ...            ...\n",
      "594   TERRENCE  GUNDERSON         1       1       844 Bucuresti Place         Jinzhou          China\n",
      "595    ENRIQUE   FORSYTHE         1       1  1101 Bucuresti Boulevard          Patras         Greece\n",
      "596    FREDDIE     DUGGAN         1       1    1103 Quilmes Boulevard         Sullana           Peru\n",
      "597       WADE   DELVALLE         1       1       1331 Usak Boulevard        Lausanne    Switzerland\n",
      "598     AUSTIN    CINTRON         2       1      1325 Fukuyama Street           Tieli          China\n",
      "\n",
      "[599 rows x 7 columns]\n"
     ]
    }
   ],
   "source": [
    "print(df)"
   ]
  },
  {
   "cell_type": "markdown",
   "metadata": {},
   "source": [
    "\n",
    "4. Kirk would like to understand how much customers are \n",
    "spending with you, and also to know who your most top paying \n",
    "customers are.\n"
   ]
  },
  {
   "cell_type": "code",
   "execution_count": 207,
   "metadata": {},
   "outputs": [],
   "source": [
    "df = pd.read_sql('''\n",
    "SELECT \n",
    "\tstore_id, \n",
    "    category.name AS category, \n",
    "\tCOUNT(inventory.inventory_id) AS films, \n",
    "    AVG(film.replacement_cost) AS avg_replacement_cost, \n",
    "    SUM(film.replacement_cost) AS total_replacement_cost\n",
    "    \n",
    "FROM inventory\n",
    "\tLEFT JOIN film\n",
    "\t\tON inventory.film_id = film.film_id\n",
    "\tLEFT JOIN film_category\n",
    "\t\tON film.film_id = film_category.film_id\n",
    "\tLEFT JOIN category\n",
    "\t\tON category.category_id = film_category.category_id\n",
    "\n",
    "GROUP BY \n",
    "\tstore_id, \n",
    "    category.name\n",
    "    \n",
    "ORDER BY\n",
    "    store_id,\n",
    "    category.name,\n",
    "\tSUM(film.replacement_cost) DESC\n",
    "''', db);\n"
   ]
  },
  {
   "cell_type": "code",
   "execution_count": 208,
   "metadata": {},
   "outputs": [
    {
     "data": {
      "text/plain": [
       "<seaborn.axisgrid.FacetGrid at 0x7fd1da7dea30>"
      ]
     },
     "execution_count": 208,
     "metadata": {},
     "output_type": "execute_result"
    },
    {
     "data": {
      "image/png": "[encoded data removed]",
      "text/plain": [
       "<Figure size 360x360 with 1 Axes>"
      ]
     },
     "metadata": {
      "needs_background": "light"
     },
     "output_type": "display_data"
    }
   ],
   "source": [
    "sns.lmplot('avg_replacement_cost', 'total_replacement_cost', data=df, fit_reg=False)"
   ]
  },
  {
   "cell_type": "markdown",
   "metadata": {},
   "source": [
    " 1.How is the length of the movie related to the movie rating, rental duration and rental rate set by the store? TABLE(s): film\n"
   ]
  },
  {
   "cell_type": "code",
   "execution_count": 209,
   "metadata": {},
   "outputs": [],
   "source": [
    "df = pd.read_sql('''\n",
    "SELECT\n",
    "\trating AS movie_rating,\n",
    "\tAVG(length) AS avg_movie_length,\n",
    "    AVG(rental_duration) AS avg_rental_duration,\n",
    "    AVG(rental_rate) AS avg_rental_rate\n",
    "FROM film\n",
    "GROUP BY 1\n",
    "ORDER BY 2,3;\n",
    "\n",
    "''', db);\n"
   ]
  },
  {
   "cell_type": "code",
   "execution_count": 210,
   "metadata": {},
   "outputs": [
    {
     "name": "stdout",
     "output_type": "stream",
     "text": [
      "  movie_rating  avg_movie_length  avg_rental_duration  avg_rental_rate\n",
      "0            G          111.0506               4.8371         2.888876\n",
      "1           PG          112.0052               5.0825         3.051856\n",
      "2        NC-17          113.2286               5.1429         2.970952\n",
      "3            R          118.6615               4.7744         2.938718\n",
      "4        PG-13          120.4439               5.0538         3.034843\n"
     ]
    }
   ],
   "source": [
    "print(df)"
   ]
  },
  {
   "cell_type": "markdown",
   "metadata": {},
   "source": [
    "\n",
    "-- 3. Which actor has best average rental rate for his/ her movie? -- TABLE(s) film_actor, films"
   ]
  },
  {
   "cell_type": "code",
   "execution_count": 211,
   "metadata": {},
   "outputs": [],
   "source": [
    "df = pd.read_sql('''\n",
    "SELECT\n",
    "\ta.actor_id AS actor_id,\n",
    "    CONCAT(a.first_name,' ',a.last_name) As actor_name,\n",
    "    AVG(f.rental_rate) AS avg_rental_rate\n",
    "    \n",
    "FROM film AS f\n",
    "\tLEFT JOIN film_actor AS fa\n",
    "\t\tON fa.film_id = f.film_id\n",
    "\tLEFT JOIN actor AS a\n",
    "\t\tON a.actor_id = fa.actor_id\n",
    "GROUP BY 1\n",
    "ORDER BY 3 DESC\n",
    "LIMIT 1;\n",
    "''', db);\n"
   ]
  },
  {
   "cell_type": "code",
   "execution_count": 220,
   "metadata": {},
   "outputs": [
    {
     "name": "stdout",
     "output_type": "stream",
     "text": [
      "  rating  number_of_rentals\n",
      "0  PG-13               3585\n",
      "1  NC-17               3293\n",
      "2     PG               3212\n",
      "3      R               3181\n",
      "4      G               2773\n"
     ]
    }
   ],
   "source": [
    "print(df)"
   ]
  },
  {
   "cell_type": "markdown",
   "metadata": {},
   "source": [
    "\n",
    "-- 4. Which category (genre or rating) of film has the most rentals, and does \n",
    "this have to do anything with the length of the film? TABLE(s): category, film, inventory,rental\n"
   ]
  },
  {
   "cell_type": "code",
   "execution_count": 221,
   "metadata": {},
   "outputs": [],
   "source": [
    "df = pd.read_sql('''\n",
    "SELECT\n",
    "\tf.rating AS rating,\n",
    "\tCOUNT(DISTINCT r.rental_id) AS number_of_rentals\n",
    "FROM rental AS r\n",
    "\tLEFT JOIN inventory AS i\n",
    "\t\tON i.inventory_id = r.inventory_id\n",
    "\tLEFT JOIN film AS f\n",
    "\t\tON f.film_id = i.film_id\n",
    "GROUP BY \n",
    "\tf.rating\n",
    "ORDER BY 2 DESC;\n",
    "''', db);\n"
   ]
  },
  {
   "cell_type": "code",
   "execution_count": 222,
   "metadata": {},
   "outputs": [
    {
     "name": "stdout",
     "output_type": "stream",
     "text": [
      "  rating  number_of_rentals\n",
      "0  PG-13               3585\n",
      "1  NC-17               3293\n",
      "2     PG               3212\n",
      "3      R               3181\n",
      "4      G               2773\n"
     ]
    }
   ],
   "source": [
    "print(df)"
   ]
  },
  {
   "cell_type": "code",
   "execution_count": 231,
   "metadata": {},
   "outputs": [
    {
     "data": {
      "text/plain": [
       "<matplotlib.legend.Legend at 0x7fd1bdc9bc10>"
      ]
     },
     "execution_count": 231,
     "metadata": {},
     "output_type": "execute_result"
    },
    {
     "data": {
      "image/png": "[encoded data removed]",
      "text/plain": [
       "<Figure size 432x288 with 1 Axes>"
      ]
     },
     "metadata": {
      "needs_background": "light"
     },
     "output_type": "display_data"
    }
   ],
   "source": [
    "sns.countplot(y= 'number_of_rentals',hue='rating',data = df,palette = \"Set2\")\n",
    "plt.legend(bbox_to_anchor=(1.05, 1), loc=2, borderaxespad=0.)"
   ]
  },
  {
   "cell_type": "code",
   "execution_count": 232,
   "metadata": {},
   "outputs": [],
   "source": [
    "df = pd.read_sql('''\n",
    "SELECT\n",
    "\ts.store_id AS store_id,\n",
    "\tc.name AS genre,\n",
    "    COUNT(DISTINCT r.rental_id) AS rentals,\n",
    "\tSUM(p.amount) AS revenue\n",
    "FROM store AS s\n",
    "\tLEFT JOIN inventory AS i\n",
    "\t\tON i.store_id = s.store_id\n",
    "\tLEFT JOIN film AS f\n",
    "\t\tON f.film_id = i.film_id\n",
    "\tLEFT JOIN film_category AS fc\n",
    "\t\tON f.film_id = fc.film_id\n",
    "\tLEFT JOIN category As c\n",
    "\t\tON fc.category_id = c.category_id\n",
    "\tLEFT JOIN rental AS r\n",
    "\t\tON i.inventory_id = r.inventory_id\n",
    "\tLEFT JOIN payment AS p\n",
    "\t\tON p.rental_id = r.rental_id\n",
    "GROUP BY\n",
    "\ts.store_id,\n",
    "    c.name\n",
    "ORDER BY 1, 3 DESC,4 DESC;\n",
    "''', db);\n"
   ]
  },
  {
   "cell_type": "code",
   "execution_count": 233,
   "metadata": {},
   "outputs": [
    {
     "name": "stdout",
     "output_type": "stream",
     "text": [
      "    store_id        genre  rentals  revenue\n",
      "0          1       Action      596  2342.04\n",
      "1          1        Drama      576  2573.24\n",
      "2          1    Animation      568  2297.29\n",
      "3          1       Family      557  2166.44\n",
      "4          1       Sports      555  2488.46\n",
      "5          1      Foreign      524  2289.77\n",
      "6          1       Sci-Fi      521  2203.79\n",
      "7          1          New      502  2402.98\n",
      "8          1       Comedy      502  2377.97\n",
      "9          1        Games      455  2083.46\n",
      "10         1     Children      453  1758.47\n",
      "11         1  Documentary      450  1869.51\n",
      "12         1     Classics      447  1717.51\n",
      "13         1        Music      436  1795.66\n",
      "14         1       Travel      395  1640.06\n",
      "15         1       Horror      386  1673.14\n",
      "16         2       Sports      624  2825.75\n",
      "17         2  Documentary      600  2348.01\n",
      "18         2    Animation      598  2359.01\n",
      "19         2       Sci-Fi      580  2553.19\n",
      "20         2       Family      539  2059.63\n",
      "21         2       Action      516  2033.81\n",
      "22         2        Games      514  2197.87\n",
      "23         2      Foreign      509  1980.90\n",
      "24         2     Classics      492  1922.08\n",
      "25         2     Children      492  1897.08\n",
      "26         2        Drama      484  2014.15\n",
      "27         2       Horror      460  2049.40\n",
      "28         2       Travel      442  1909.58\n",
      "29         2       Comedy      439  2005.61\n",
      "30         2          New      438  1948.64\n",
      "31         2        Music      394  1622.06\n"
     ]
    }
   ],
   "source": [
    "print(df)"
   ]
  },
  {
   "cell_type": "code",
   "execution_count": 234,
   "metadata": {},
   "outputs": [
    {
     "data": {
      "text/plain": [
       "<seaborn.axisgrid.FacetGrid at 0x7fd1dada2a00>"
      ]
     },
     "execution_count": 234,
     "metadata": {},
     "output_type": "execute_result"
    },
    {
     "data": {
      "image/png": "[encoded data removed]",
      "text/plain": [
       "<Figure size 360x360 with 1 Axes>"
      ]
     },
     "metadata": {
      "needs_background": "light"
     },
     "output_type": "display_data"
    }
   ],
   "source": [
    "sns.lmplot('rentals', 'revenue', data=df, fit_reg=False)"
   ]
  },
  {
   "cell_type": "code",
   "execution_count": null,
   "metadata": {},
   "outputs": [],
   "source": [
    "\n",
    "# disconnect from server\n",
    "db.close()"
   ]
  }
 ],
 "metadata": {
  "kernelspec": {
   "display_name": "Python 3",
   "language": "python",
   "name": "python3"
  },
  "language_info": {
   "codemirror_mode": {
    "name": "ipython",
    "version": 3
   },
   "file_extension": ".py",
   "mimetype": "text/x-python",
   "name": "python",
   "nbconvert_exporter": "python",
   "pygments_lexer": "ipython3",
   "version": "3.8.3"
  }
 },
 "nbformat": 4,
 "nbformat_minor": 4
}
