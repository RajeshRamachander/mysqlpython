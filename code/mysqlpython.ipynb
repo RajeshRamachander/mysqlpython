{
 "cells": [
  {
   "cell_type": "code",
   "execution_count": 1,
   "metadata": {},
   "outputs": [],
   "source": [
    "import pymysql\n",
    "import pandas as pd\n",
    "import matplotlib.pyplot as plt\n",
    "import seaborn as sns"
   ]
  },
  {
   "cell_type": "code",
   "execution_count": 2,
   "metadata": {},
   "outputs": [],
   "source": [
    "# Open database connection\n",
    "db = pymysql.connect(\"localhost\",\"root\",\"password\",'sakila' )\n"
   ]
  },
  {
   "cell_type": "code",
   "execution_count": 3,
   "metadata": {},
   "outputs": [],
   "source": [
    "\n",
    "# prepare a cursor object using cursor() method\n",
    "cursor = db.cursor()\n"
   ]
  },
  {
   "cell_type": "code",
   "execution_count": 4,
   "metadata": {},
   "outputs": [
    {
     "name": "stdout",
     "output_type": "stream",
     "text": [
      "classicmodels\n",
      "inclass\n",
      "information_schema\n",
      "ipl\n",
      "mavenfuzzyfactory\n",
      "miniprojectoct\n",
      "mysql\n",
      "performance_schema\n",
      "production\n",
      "sakila\n",
      "sales\n",
      "sys\n"
     ]
    }
   ],
   "source": [
    "databases = (\"SHOW databases\")\n",
    "cursor.execute(databases)\n",
    "for (databases) in cursor:\n",
    "     print(databases[0])"
   ]
  },
  {
   "cell_type": "code",
   "execution_count": 5,
   "metadata": {},
   "outputs": [
    {
     "data": {
      "text/plain": [
       "1"
      ]
     },
     "execution_count": 5,
     "metadata": {},
     "output_type": "execute_result"
    }
   ],
   "source": [
    "\n",
    "# execute SQL query using execute() method.\n",
    "cursor.execute(\"SELECT VERSION()\")\n"
   ]
  },
  {
   "cell_type": "code",
   "execution_count": 6,
   "metadata": {
    "scrolled": true
   },
   "outputs": [
    {
     "name": "stdout",
     "output_type": "stream",
     "text": [
      "Database version : 8.0.21 \n"
     ]
    }
   ],
   "source": [
    "\n",
    "# Fetch a single row using fetchone() method.\n",
    "data = cursor.fetchone()\n",
    "print (\"Database version : %s \" % data)\n"
   ]
  },
  {
   "cell_type": "markdown",
   "metadata": {},
   "source": [
    "# Theme\n",
    "You are the store Data Analyst and Kirk is an investor \n",
    "looking to buy the stores. He has a few queries that would like \n",
    "to get answers for.\n"
   ]
  },
  {
   "cell_type": "markdown",
   "metadata": {},
   "source": [
    "\n",
    "1. Kirk Gopal is looking to meet the staff in each store, let him know the address to meet them"
   ]
  },
  {
   "cell_type": "code",
   "execution_count": 7,
   "metadata": {},
   "outputs": [],
   "source": [
    "staff_address = pd.read_sql('''\n",
    "SELECT \n",
    "\tstaff.first_name AS manager_first_name, \n",
    "    staff.last_name AS manager_last_name,\n",
    "    address.address, \n",
    "    address.district, \n",
    "    city.city, \n",
    "    country.country\n",
    "\n",
    "FROM store\n",
    "\tLEFT JOIN staff ON store.manager_staff_id = staff.staff_id\n",
    "    LEFT JOIN address ON store.address_id = address.address_id\n",
    "    LEFT JOIN city ON address.city_id = city.city_id\n",
    "    LEFT JOIN country ON city.country_id = country.country_id\n",
    "\n",
    "''', db);\n"
   ]
  },
  {
   "cell_type": "code",
   "execution_count": 8,
   "metadata": {},
   "outputs": [
    {
     "name": "stdout",
     "output_type": "stream",
     "text": [
      "<class 'pandas.core.frame.DataFrame'>\n",
      "RangeIndex: 2 entries, 0 to 1\n",
      "Data columns (total 6 columns):\n",
      " #   Column              Non-Null Count  Dtype \n",
      "---  ------              --------------  ----- \n",
      " 0   manager_first_name  2 non-null      object\n",
      " 1   manager_last_name   2 non-null      object\n",
      " 2   address             2 non-null      object\n",
      " 3   district            2 non-null      object\n",
      " 4   city                2 non-null      object\n",
      " 5   country             2 non-null      object\n",
      "dtypes: object(6)\n",
      "memory usage: 224.0+ bytes\n"
     ]
    }
   ],
   "source": [
    "staff_address.info() "
   ]
  },
  {
   "cell_type": "code",
   "execution_count": 9,
   "metadata": {},
   "outputs": [
    {
     "data": {
      "text/html": [
       "<div>\n",
       "<style scoped>\n",
       "    .dataframe tbody tr th:only-of-type {\n",
       "        vertical-align: middle;\n",
       "    }\n",
       "\n",
       "    .dataframe tbody tr th {\n",
       "        vertical-align: top;\n",
       "    }\n",
       "\n",
       "    .dataframe thead th {\n",
       "        text-align: right;\n",
       "    }\n",
       "</style>\n",
       "<table border=\"1\" class=\"dataframe\">\n",
       "  <thead>\n",
       "    <tr style=\"text-align: right;\">\n",
       "      <th></th>\n",
       "      <th>manager_first_name</th>\n",
       "      <th>manager_last_name</th>\n",
       "      <th>address</th>\n",
       "      <th>district</th>\n",
       "      <th>city</th>\n",
       "      <th>country</th>\n",
       "    </tr>\n",
       "  </thead>\n",
       "  <tbody>\n",
       "    <tr>\n",
       "      <th>0</th>\n",
       "      <td>Mike</td>\n",
       "      <td>Hillyer</td>\n",
       "      <td>47 MySakila Drive</td>\n",
       "      <td>Alberta</td>\n",
       "      <td>Lethbridge</td>\n",
       "      <td>Canada</td>\n",
       "    </tr>\n",
       "    <tr>\n",
       "      <th>1</th>\n",
       "      <td>Jon</td>\n",
       "      <td>Stephens</td>\n",
       "      <td>28 MySQL Boulevard</td>\n",
       "      <td>QLD</td>\n",
       "      <td>Woodridge</td>\n",
       "      <td>Australia</td>\n",
       "    </tr>\n",
       "  </tbody>\n",
       "</table>\n",
       "</div>"
      ],
      "text/plain": [
       "  manager_first_name manager_last_name             address district  \\\n",
       "0               Mike           Hillyer   47 MySakila Drive  Alberta   \n",
       "1                Jon          Stephens  28 MySQL Boulevard      QLD   \n",
       "\n",
       "         city    country  \n",
       "0  Lethbridge     Canada  \n",
       "1   Woodridge  Australia  "
      ]
     },
     "execution_count": 9,
     "metadata": {},
     "output_type": "execute_result"
    }
   ],
   "source": [
    "staff_address"
   ]
  },
  {
   "cell_type": "markdown",
   "metadata": {},
   "source": [
    "2. Kirk want to understand the inventory is in terms of replacement cost. He wants to see the impact \n",
    "if a certain category of film became unpopular at a certain store. He would like to see the number of films, \n",
    "as well as the average replacement cost, and total replacement cost, sliced by store and film category. \n"
   ]
  },
  {
   "cell_type": "code",
   "execution_count": 10,
   "metadata": {},
   "outputs": [],
   "source": [
    "replacement_cost = pd.read_sql('''\n",
    "SELECT \n",
    "\tstore_id, \n",
    "    category.name AS category, \n",
    "\tCOUNT(inventory.inventory_id) AS films, \n",
    "    AVG(film.replacement_cost) AS avg_replacement_cost, \n",
    "    SUM(film.replacement_cost) AS total_replacement_cost\n",
    "    \n",
    "FROM inventory\n",
    "\tLEFT JOIN film\n",
    "\t\tON inventory.film_id = film.film_id\n",
    "\tLEFT JOIN film_category\n",
    "\t\tON film.film_id = film_category.film_id\n",
    "\tLEFT JOIN category\n",
    "\t\tON category.category_id = film_category.category_id\n",
    "\n",
    "GROUP BY \n",
    "\tstore_id, \n",
    "    category.name\n",
    "    \n",
    "ORDER BY\n",
    "    store_id,\n",
    "    category.name,\n",
    "\tSUM(film.replacement_cost) DESC\n",
    "''', db);\n"
   ]
  },
  {
   "cell_type": "code",
   "execution_count": 11,
   "metadata": {},
   "outputs": [
    {
     "name": "stdout",
     "output_type": "stream",
     "text": [
      "<class 'pandas.core.frame.DataFrame'>\n",
      "RangeIndex: 32 entries, 0 to 31\n",
      "Data columns (total 5 columns):\n",
      " #   Column                  Non-Null Count  Dtype  \n",
      "---  ------                  --------------  -----  \n",
      " 0   store_id                32 non-null     int64  \n",
      " 1   category                32 non-null     object \n",
      " 2   films                   32 non-null     int64  \n",
      " 3   avg_replacement_cost    32 non-null     float64\n",
      " 4   total_replacement_cost  32 non-null     float64\n",
      "dtypes: float64(2), int64(2), object(1)\n",
      "memory usage: 1.4+ KB\n"
     ]
    }
   ],
   "source": [
    "replacement_cost.info()"
   ]
  },
  {
   "cell_type": "code",
   "execution_count": 12,
   "metadata": {},
   "outputs": [
    {
     "data": {
      "text/plain": [
       "Text(0, 0.5, 'Frequency')"
      ]
     },
     "execution_count": 12,
     "metadata": {},
     "output_type": "execute_result"
    },
    {
     "data": {
      "image/png": "[encoded data removed]",
      "text/plain": [
       "<Figure size 432x288 with 1 Axes>"
      ]
     },
     "metadata": {
      "needs_background": "light"
     },
     "output_type": "display_data"
    }
   ],
   "source": [
    "replacement_cost['avg_replacement_cost'].hist(bins =11, grid = False, xlabelsize = 12)\n",
    "plt.xlabel('Average Cost',fontsize = 15)\n",
    "plt.ylabel('Frequency',fontsize = 15)"
   ]
  },
  {
   "cell_type": "code",
   "execution_count": 13,
   "metadata": {},
   "outputs": [
    {
     "data": {
      "text/plain": [
       "<seaborn.axisgrid.FacetGrid at 0x7fb5c6468040>"
      ]
     },
     "execution_count": 13,
     "metadata": {},
     "output_type": "execute_result"
    },
    {
     "data": {
      "image/png": "[encoded data removed]",
      "text/plain": [
       "<Figure size 360x360 with 1 Axes>"
      ]
     },
     "metadata": {
      "needs_background": "light"
     },
     "output_type": "display_data"
    }
   ],
   "source": [
    "sns.lmplot('avg_replacement_cost', 'total_replacement_cost', data=replacement_cost, fit_reg=False)"
   ]
  },
  {
   "cell_type": "markdown",
   "metadata": {},
   "source": [
    "\n",
    "3. Kirk wants to the customer demographics. Please provide a list \n",
    "of all customer names, which store they go to, whether or not they \n",
    "are currently active, and their full addresses. "
   ]
  },
  {
   "cell_type": "code",
   "execution_count": 14,
   "metadata": {},
   "outputs": [],
   "source": [
    "customers = pd.read_sql('''\n",
    "SELECT \n",
    "\tcustomer.first_name, \n",
    "    customer.last_name, \n",
    "    customer.store_id,\n",
    "    customer.active, \n",
    "    address.address, \n",
    "    city.city, \n",
    "    country.country\n",
    "\n",
    "FROM customer\n",
    "\tLEFT JOIN address ON customer.address_id = address.address_id\n",
    "    LEFT JOIN city ON address.city_id = city.city_id\n",
    "    LEFT JOIN country ON city.country_id = country.country_id\n",
    ";\n",
    "\n",
    "''', db);\n"
   ]
  },
  {
   "cell_type": "code",
   "execution_count": 15,
   "metadata": {},
   "outputs": [
    {
     "name": "stdout",
     "output_type": "stream",
     "text": [
      "<class 'pandas.core.frame.DataFrame'>\n",
      "RangeIndex: 599 entries, 0 to 598\n",
      "Data columns (total 7 columns):\n",
      " #   Column      Non-Null Count  Dtype \n",
      "---  ------      --------------  ----- \n",
      " 0   first_name  599 non-null    object\n",
      " 1   last_name   599 non-null    object\n",
      " 2   store_id    599 non-null    int64 \n",
      " 3   active      599 non-null    int64 \n",
      " 4   address     599 non-null    object\n",
      " 5   city        599 non-null    object\n",
      " 6   country     599 non-null    object\n",
      "dtypes: int64(2), object(5)\n",
      "memory usage: 32.9+ KB\n"
     ]
    }
   ],
   "source": [
    "customers.info()"
   ]
  },
  {
   "cell_type": "code",
   "execution_count": 16,
   "metadata": {},
   "outputs": [
    {
     "data": {
      "text/html": [
       "<div>\n",
       "<style scoped>\n",
       "    .dataframe tbody tr th:only-of-type {\n",
       "        vertical-align: middle;\n",
       "    }\n",
       "\n",
       "    .dataframe tbody tr th {\n",
       "        vertical-align: top;\n",
       "    }\n",
       "\n",
       "    .dataframe thead th {\n",
       "        text-align: right;\n",
       "    }\n",
       "</style>\n",
       "<table border=\"1\" class=\"dataframe\">\n",
       "  <thead>\n",
       "    <tr style=\"text-align: right;\">\n",
       "      <th></th>\n",
       "      <th>first_name</th>\n",
       "      <th>last_name</th>\n",
       "      <th>store_id</th>\n",
       "      <th>active</th>\n",
       "      <th>address</th>\n",
       "      <th>city</th>\n",
       "      <th>country</th>\n",
       "    </tr>\n",
       "  </thead>\n",
       "  <tbody>\n",
       "    <tr>\n",
       "      <th>0</th>\n",
       "      <td>MARY</td>\n",
       "      <td>SMITH</td>\n",
       "      <td>1</td>\n",
       "      <td>1</td>\n",
       "      <td>1913 Hanoi Way</td>\n",
       "      <td>Sasebo</td>\n",
       "      <td>Japan</td>\n",
       "    </tr>\n",
       "    <tr>\n",
       "      <th>1</th>\n",
       "      <td>PATRICIA</td>\n",
       "      <td>JOHNSON</td>\n",
       "      <td>1</td>\n",
       "      <td>1</td>\n",
       "      <td>1121 Loja Avenue</td>\n",
       "      <td>San Bernardino</td>\n",
       "      <td>United States</td>\n",
       "    </tr>\n",
       "  </tbody>\n",
       "</table>\n",
       "</div>"
      ],
      "text/plain": [
       "  first_name last_name  store_id  active           address            city  \\\n",
       "0       MARY     SMITH         1       1    1913 Hanoi Way          Sasebo   \n",
       "1   PATRICIA   JOHNSON         1       1  1121 Loja Avenue  San Bernardino   \n",
       "\n",
       "         country  \n",
       "0          Japan  \n",
       "1  United States  "
      ]
     },
     "execution_count": 16,
     "metadata": {},
     "output_type": "execute_result"
    }
   ],
   "source": [
    "customers.head(2)"
   ]
  },
  {
   "cell_type": "markdown",
   "metadata": {},
   "source": [
    "\n",
    "4. Kirk would like to understand how much customers are \n",
    "spending with you, and also to know who your most top paying \n",
    "customers are.\n"
   ]
  },
  {
   "cell_type": "code",
   "execution_count": 17,
   "metadata": {},
   "outputs": [],
   "source": [
    "customer_spend = pd.read_sql('''\n",
    "SELECT \n",
    "\tcustomer.first_name, \n",
    "    customer.last_name, \n",
    "    COUNT(rental.rental_id) AS total_rentals, \n",
    "    SUM(payment.amount) AS total_payment_amount\n",
    "\n",
    "FROM customer\n",
    "\tLEFT JOIN rental ON customer.customer_id = rental.customer_id\n",
    "    LEFT JOIN payment ON rental.rental_id = payment.rental_id\n",
    "\n",
    "GROUP BY \n",
    "\tcustomer.first_name,\n",
    "    customer.last_name\n",
    "\n",
    "ORDER BY \n",
    "\tSUM(payment.amount) DESC\n",
    "    ;\n",
    "''', db);\n"
   ]
  },
  {
   "cell_type": "code",
   "execution_count": 18,
   "metadata": {},
   "outputs": [
    {
     "name": "stdout",
     "output_type": "stream",
     "text": [
      "<class 'pandas.core.frame.DataFrame'>\n",
      "RangeIndex: 599 entries, 0 to 598\n",
      "Data columns (total 4 columns):\n",
      " #   Column                Non-Null Count  Dtype  \n",
      "---  ------                --------------  -----  \n",
      " 0   first_name            599 non-null    object \n",
      " 1   last_name             599 non-null    object \n",
      " 2   total_rentals         599 non-null    int64  \n",
      " 3   total_payment_amount  599 non-null    float64\n",
      "dtypes: float64(1), int64(1), object(2)\n",
      "memory usage: 18.8+ KB\n"
     ]
    }
   ],
   "source": [
    "customer_spend.info()"
   ]
  },
  {
   "cell_type": "code",
   "execution_count": 19,
   "metadata": {
    "scrolled": true
   },
   "outputs": [
    {
     "data": {
      "text/plain": [
       "<seaborn.axisgrid.FacetGrid at 0x7fb5c66d5040>"
      ]
     },
     "execution_count": 19,
     "metadata": {},
     "output_type": "execute_result"
    },
    {
     "data": {
      "image/png": "[encoded data removed]",
      "text/plain": [
       "<Figure size 360x360 with 1 Axes>"
      ]
     },
     "metadata": {
      "needs_background": "light"
     },
     "output_type": "display_data"
    }
   ],
   "source": [
    "sns.lmplot('total_rentals', 'total_payment_amount', data=customer_spend, fit_reg=False)"
   ]
  },
  {
   "cell_type": "markdown",
   "metadata": {},
   "source": [
    "5.How is the length of the movie related to the movie rating, rental duration and rental rate set by the store? \n"
   ]
  },
  {
   "cell_type": "code",
   "execution_count": 20,
   "metadata": {},
   "outputs": [],
   "source": [
    "movie_data = pd.read_sql('''\n",
    "SELECT\n",
    "\trating AS movie_rating,\n",
    "\tAVG(length) AS avg_movie_length,\n",
    "    AVG(rental_duration) AS avg_rental_duration,\n",
    "    AVG(rental_rate) AS avg_rental_rate\n",
    "FROM film\n",
    "GROUP BY 1\n",
    "ORDER BY 2,3;\n",
    "\n",
    "''', db);\n"
   ]
  },
  {
   "cell_type": "code",
   "execution_count": 21,
   "metadata": {},
   "outputs": [
    {
     "name": "stdout",
     "output_type": "stream",
     "text": [
      "<class 'pandas.core.frame.DataFrame'>\n",
      "RangeIndex: 5 entries, 0 to 4\n",
      "Data columns (total 4 columns):\n",
      " #   Column               Non-Null Count  Dtype  \n",
      "---  ------               --------------  -----  \n",
      " 0   movie_rating         5 non-null      object \n",
      " 1   avg_movie_length     5 non-null      float64\n",
      " 2   avg_rental_duration  5 non-null      float64\n",
      " 3   avg_rental_rate      5 non-null      float64\n",
      "dtypes: float64(3), object(1)\n",
      "memory usage: 288.0+ bytes\n"
     ]
    }
   ],
   "source": [
    "movie_data.info()"
   ]
  },
  {
   "cell_type": "code",
   "execution_count": 22,
   "metadata": {},
   "outputs": [
    {
     "data": {
      "text/html": [
       "<div>\n",
       "<style scoped>\n",
       "    .dataframe tbody tr th:only-of-type {\n",
       "        vertical-align: middle;\n",
       "    }\n",
       "\n",
       "    .dataframe tbody tr th {\n",
       "        vertical-align: top;\n",
       "    }\n",
       "\n",
       "    .dataframe thead th {\n",
       "        text-align: right;\n",
       "    }\n",
       "</style>\n",
       "<table border=\"1\" class=\"dataframe\">\n",
       "  <thead>\n",
       "    <tr style=\"text-align: right;\">\n",
       "      <th></th>\n",
       "      <th>movie_rating</th>\n",
       "      <th>avg_movie_length</th>\n",
       "      <th>avg_rental_duration</th>\n",
       "      <th>avg_rental_rate</th>\n",
       "    </tr>\n",
       "  </thead>\n",
       "  <tbody>\n",
       "    <tr>\n",
       "      <th>0</th>\n",
       "      <td>G</td>\n",
       "      <td>111.0506</td>\n",
       "      <td>4.8371</td>\n",
       "      <td>2.888876</td>\n",
       "    </tr>\n",
       "    <tr>\n",
       "      <th>1</th>\n",
       "      <td>PG</td>\n",
       "      <td>112.0052</td>\n",
       "      <td>5.0825</td>\n",
       "      <td>3.051856</td>\n",
       "    </tr>\n",
       "    <tr>\n",
       "      <th>2</th>\n",
       "      <td>NC-17</td>\n",
       "      <td>113.2286</td>\n",
       "      <td>5.1429</td>\n",
       "      <td>2.970952</td>\n",
       "    </tr>\n",
       "    <tr>\n",
       "      <th>3</th>\n",
       "      <td>R</td>\n",
       "      <td>118.6615</td>\n",
       "      <td>4.7744</td>\n",
       "      <td>2.938718</td>\n",
       "    </tr>\n",
       "    <tr>\n",
       "      <th>4</th>\n",
       "      <td>PG-13</td>\n",
       "      <td>120.4439</td>\n",
       "      <td>5.0538</td>\n",
       "      <td>3.034843</td>\n",
       "    </tr>\n",
       "  </tbody>\n",
       "</table>\n",
       "</div>"
      ],
      "text/plain": [
       "  movie_rating  avg_movie_length  avg_rental_duration  avg_rental_rate\n",
       "0            G          111.0506               4.8371         2.888876\n",
       "1           PG          112.0052               5.0825         3.051856\n",
       "2        NC-17          113.2286               5.1429         2.970952\n",
       "3            R          118.6615               4.7744         2.938718\n",
       "4        PG-13          120.4439               5.0538         3.034843"
      ]
     },
     "execution_count": 22,
     "metadata": {},
     "output_type": "execute_result"
    }
   ],
   "source": [
    "movie_data"
   ]
  },
  {
   "cell_type": "code",
   "execution_count": 23,
   "metadata": {},
   "outputs": [
    {
     "data": {
      "text/plain": [
       "<seaborn.axisgrid.FacetGrid at 0x7fb5c69c5100>"
      ]
     },
     "execution_count": 23,
     "metadata": {},
     "output_type": "execute_result"
    },
    {
     "data": {
      "image/png": "[encoded data removed]",
      "text/plain": [
       "<Figure size 433.25x360 with 1 Axes>"
      ]
     },
     "metadata": {
      "needs_background": "light"
     },
     "output_type": "display_data"
    },
    {
     "data": {
      "image/png": "[encoded data removed]",
      "text/plain": [
       "<Figure size 433.25x360 with 1 Axes>"
      ]
     },
     "metadata": {
      "needs_background": "light"
     },
     "output_type": "display_data"
    }
   ],
   "source": [
    "sns.lmplot('avg_movie_length', 'avg_rental_duration', data=movie_data, hue = 'movie_rating', fit_reg=False)\n",
    "sns.lmplot('avg_movie_length', 'avg_rental_rate', data=movie_data, hue = 'movie_rating', fit_reg=False)"
   ]
  },
  {
   "cell_type": "markdown",
   "metadata": {},
   "source": [
    "-- 6. Which category of movie is the longest and does this have any relationship with rental rate? "
   ]
  },
  {
   "cell_type": "code",
   "execution_count": 24,
   "metadata": {},
   "outputs": [],
   "source": [
    "category_rental = pd.read_sql('''\n",
    "SELECT\n",
    "\tc.name AS category,\n",
    "\tAVG(f.length) AS avg_length,\n",
    "    AVG(f.rental_rate) AS avg_rental_rate\n",
    "FROM film AS f\n",
    "\tLEFT JOIN film_category AS fc\n",
    "\t\tON f.film_id = fc.film_id\n",
    "\tLEFT JOIN category AS c\n",
    "\t\tON c.category_id = fc.category_id\n",
    "GROUP BY c.name\n",
    "ORDER BY 2 DESC,3 DESC;\n",
    "\n",
    "''', db);\n"
   ]
  },
  {
   "cell_type": "code",
   "execution_count": 25,
   "metadata": {},
   "outputs": [
    {
     "name": "stdout",
     "output_type": "stream",
     "text": [
      "<class 'pandas.core.frame.DataFrame'>\n",
      "RangeIndex: 16 entries, 0 to 15\n",
      "Data columns (total 3 columns):\n",
      " #   Column           Non-Null Count  Dtype  \n",
      "---  ------           --------------  -----  \n",
      " 0   category         16 non-null     object \n",
      " 1   avg_length       16 non-null     float64\n",
      " 2   avg_rental_rate  16 non-null     float64\n",
      "dtypes: float64(2), object(1)\n",
      "memory usage: 512.0+ bytes\n"
     ]
    }
   ],
   "source": [
    "category_rental.info()"
   ]
  },
  {
   "cell_type": "code",
   "execution_count": 26,
   "metadata": {},
   "outputs": [
    {
     "data": {
      "text/html": [
       "<div>\n",
       "<style scoped>\n",
       "    .dataframe tbody tr th:only-of-type {\n",
       "        vertical-align: middle;\n",
       "    }\n",
       "\n",
       "    .dataframe tbody tr th {\n",
       "        vertical-align: top;\n",
       "    }\n",
       "\n",
       "    .dataframe thead th {\n",
       "        text-align: right;\n",
       "    }\n",
       "</style>\n",
       "<table border=\"1\" class=\"dataframe\">\n",
       "  <thead>\n",
       "    <tr style=\"text-align: right;\">\n",
       "      <th></th>\n",
       "      <th>category</th>\n",
       "      <th>avg_length</th>\n",
       "      <th>avg_rental_rate</th>\n",
       "    </tr>\n",
       "  </thead>\n",
       "  <tbody>\n",
       "    <tr>\n",
       "      <th>0</th>\n",
       "      <td>Sports</td>\n",
       "      <td>128.2027</td>\n",
       "      <td>3.125135</td>\n",
       "    </tr>\n",
       "    <tr>\n",
       "      <th>1</th>\n",
       "      <td>Games</td>\n",
       "      <td>127.8361</td>\n",
       "      <td>3.252295</td>\n",
       "    </tr>\n",
       "    <tr>\n",
       "      <th>2</th>\n",
       "      <td>Foreign</td>\n",
       "      <td>121.6986</td>\n",
       "      <td>3.099589</td>\n",
       "    </tr>\n",
       "    <tr>\n",
       "      <th>3</th>\n",
       "      <td>Drama</td>\n",
       "      <td>120.8387</td>\n",
       "      <td>3.022258</td>\n",
       "    </tr>\n",
       "    <tr>\n",
       "      <th>4</th>\n",
       "      <td>Comedy</td>\n",
       "      <td>115.8276</td>\n",
       "      <td>3.162414</td>\n",
       "    </tr>\n",
       "    <tr>\n",
       "      <th>5</th>\n",
       "      <td>Family</td>\n",
       "      <td>114.7826</td>\n",
       "      <td>2.758116</td>\n",
       "    </tr>\n",
       "    <tr>\n",
       "      <th>6</th>\n",
       "      <td>Music</td>\n",
       "      <td>113.6471</td>\n",
       "      <td>2.950784</td>\n",
       "    </tr>\n",
       "    <tr>\n",
       "      <th>7</th>\n",
       "      <td>Travel</td>\n",
       "      <td>113.3158</td>\n",
       "      <td>3.235614</td>\n",
       "    </tr>\n",
       "    <tr>\n",
       "      <th>8</th>\n",
       "      <td>Horror</td>\n",
       "      <td>112.4821</td>\n",
       "      <td>3.025714</td>\n",
       "    </tr>\n",
       "    <tr>\n",
       "      <th>9</th>\n",
       "      <td>Classics</td>\n",
       "      <td>111.6667</td>\n",
       "      <td>2.744386</td>\n",
       "    </tr>\n",
       "    <tr>\n",
       "      <th>10</th>\n",
       "      <td>Action</td>\n",
       "      <td>111.6094</td>\n",
       "      <td>2.646250</td>\n",
       "    </tr>\n",
       "    <tr>\n",
       "      <th>11</th>\n",
       "      <td>New</td>\n",
       "      <td>111.1270</td>\n",
       "      <td>3.116984</td>\n",
       "    </tr>\n",
       "    <tr>\n",
       "      <th>12</th>\n",
       "      <td>Animation</td>\n",
       "      <td>111.0152</td>\n",
       "      <td>2.808182</td>\n",
       "    </tr>\n",
       "    <tr>\n",
       "      <th>13</th>\n",
       "      <td>Children</td>\n",
       "      <td>109.8000</td>\n",
       "      <td>2.890000</td>\n",
       "    </tr>\n",
       "    <tr>\n",
       "      <th>14</th>\n",
       "      <td>Documentary</td>\n",
       "      <td>108.7500</td>\n",
       "      <td>2.666471</td>\n",
       "    </tr>\n",
       "    <tr>\n",
       "      <th>15</th>\n",
       "      <td>Sci-Fi</td>\n",
       "      <td>108.1967</td>\n",
       "      <td>3.219508</td>\n",
       "    </tr>\n",
       "  </tbody>\n",
       "</table>\n",
       "</div>"
      ],
      "text/plain": [
       "       category  avg_length  avg_rental_rate\n",
       "0        Sports    128.2027         3.125135\n",
       "1         Games    127.8361         3.252295\n",
       "2       Foreign    121.6986         3.099589\n",
       "3         Drama    120.8387         3.022258\n",
       "4        Comedy    115.8276         3.162414\n",
       "5        Family    114.7826         2.758116\n",
       "6         Music    113.6471         2.950784\n",
       "7        Travel    113.3158         3.235614\n",
       "8        Horror    112.4821         3.025714\n",
       "9      Classics    111.6667         2.744386\n",
       "10       Action    111.6094         2.646250\n",
       "11          New    111.1270         3.116984\n",
       "12    Animation    111.0152         2.808182\n",
       "13     Children    109.8000         2.890000\n",
       "14  Documentary    108.7500         2.666471\n",
       "15       Sci-Fi    108.1967         3.219508"
      ]
     },
     "execution_count": 26,
     "metadata": {},
     "output_type": "execute_result"
    }
   ],
   "source": [
    "category_rental"
   ]
  },
  {
   "cell_type": "code",
   "execution_count": 27,
   "metadata": {},
   "outputs": [
    {
     "data": {
      "text/plain": [
       "<seaborn.axisgrid.FacetGrid at 0x7fb5c6e0e940>"
      ]
     },
     "execution_count": 27,
     "metadata": {},
     "output_type": "execute_result"
    },
    {
     "data": {
      "image/png": "[encoded data removed]",
      "text/plain": [
       "<Figure size 463.75x360 with 1 Axes>"
      ]
     },
     "metadata": {
      "needs_background": "light"
     },
     "output_type": "display_data"
    }
   ],
   "source": [
    "sns.lmplot('avg_length', 'avg_rental_rate', \n",
    "           data=category_rental, hue = 'category', fit_reg=False)"
   ]
  },
  {
   "cell_type": "markdown",
   "metadata": {},
   "source": [
    "7. Which actor has best average rental rate for his/ her movie? "
   ]
  },
  {
   "cell_type": "code",
   "execution_count": 28,
   "metadata": {},
   "outputs": [],
   "source": [
    "actor_rental = pd.read_sql('''\n",
    "SELECT\n",
    "\ta.actor_id AS actor_id,\n",
    "    CONCAT(a.first_name,' ',a.last_name) As actor_name,\n",
    "    AVG(f.rental_rate) AS avg_rental_rate\n",
    "    \n",
    "FROM film AS f\n",
    "\tLEFT JOIN film_actor AS fa\n",
    "\t\tON fa.film_id = f.film_id\n",
    "\tLEFT JOIN actor AS a\n",
    "\t\tON a.actor_id = fa.actor_id\n",
    "GROUP BY 1\n",
    "ORDER BY 3 DESC\n",
    "LIMIT 1;\n",
    "''', db);\n"
   ]
  },
  {
   "cell_type": "code",
   "execution_count": 29,
   "metadata": {},
   "outputs": [
    {
     "name": "stdout",
     "output_type": "stream",
     "text": [
      "<class 'pandas.core.frame.DataFrame'>\n",
      "RangeIndex: 1 entries, 0 to 0\n",
      "Data columns (total 3 columns):\n",
      " #   Column           Non-Null Count  Dtype  \n",
      "---  ------           --------------  -----  \n",
      " 0   actor_id         1 non-null      int64  \n",
      " 1   actor_name       1 non-null      object \n",
      " 2   avg_rental_rate  1 non-null      float64\n",
      "dtypes: float64(1), int64(1), object(1)\n",
      "memory usage: 152.0+ bytes\n"
     ]
    }
   ],
   "source": [
    "actor_rental.info()"
   ]
  },
  {
   "cell_type": "code",
   "execution_count": 30,
   "metadata": {},
   "outputs": [
    {
     "data": {
      "text/html": [
       "<div>\n",
       "<style scoped>\n",
       "    .dataframe tbody tr th:only-of-type {\n",
       "        vertical-align: middle;\n",
       "    }\n",
       "\n",
       "    .dataframe tbody tr th {\n",
       "        vertical-align: top;\n",
       "    }\n",
       "\n",
       "    .dataframe thead th {\n",
       "        text-align: right;\n",
       "    }\n",
       "</style>\n",
       "<table border=\"1\" class=\"dataframe\">\n",
       "  <thead>\n",
       "    <tr style=\"text-align: right;\">\n",
       "      <th></th>\n",
       "      <th>actor_id</th>\n",
       "      <th>actor_name</th>\n",
       "      <th>avg_rental_rate</th>\n",
       "    </tr>\n",
       "  </thead>\n",
       "  <tbody>\n",
       "    <tr>\n",
       "      <th>0</th>\n",
       "      <td>134</td>\n",
       "      <td>GENE HOPKINS</td>\n",
       "      <td>3.808182</td>\n",
       "    </tr>\n",
       "  </tbody>\n",
       "</table>\n",
       "</div>"
      ],
      "text/plain": [
       "   actor_id    actor_name  avg_rental_rate\n",
       "0       134  GENE HOPKINS         3.808182"
      ]
     },
     "execution_count": 30,
     "metadata": {},
     "output_type": "execute_result"
    }
   ],
   "source": [
    "actor_rental"
   ]
  },
  {
   "cell_type": "markdown",
   "metadata": {},
   "source": [
    "8. Which category (genre or rating) of film has the most rentals, and does this have to do anything with the length of the film? "
   ]
  },
  {
   "cell_type": "code",
   "execution_count": 31,
   "metadata": {},
   "outputs": [],
   "source": [
    "rating_rental_length = pd.read_sql('''\n",
    "SELECT\n",
    "\tf.rating AS rating,\n",
    "\tCOUNT(DISTINCT r.rental_id) AS number_of_rentals,\n",
    "    f.length AS film_length\n",
    "FROM rental AS r\n",
    "\tLEFT JOIN inventory AS i\n",
    "\t\tON i.inventory_id = r.inventory_id\n",
    "\tLEFT JOIN film AS f\n",
    "\t\tON f.film_id = i.film_id\n",
    "GROUP BY \n",
    "\tf.rating,\n",
    "    f.length\n",
    "ORDER BY 2 DESC, 3 DESC;\n",
    "''', db);\n"
   ]
  },
  {
   "cell_type": "code",
   "execution_count": 32,
   "metadata": {},
   "outputs": [
    {
     "name": "stdout",
     "output_type": "stream",
     "text": [
      "<class 'pandas.core.frame.DataFrame'>\n",
      "RangeIndex: 535 entries, 0 to 534\n",
      "Data columns (total 3 columns):\n",
      " #   Column             Non-Null Count  Dtype \n",
      "---  ------             --------------  ----- \n",
      " 0   rating             535 non-null    object\n",
      " 1   number_of_rentals  535 non-null    int64 \n",
      " 2   film_length        535 non-null    int64 \n",
      "dtypes: int64(2), object(1)\n",
      "memory usage: 12.7+ KB\n"
     ]
    }
   ],
   "source": [
    "rating_rental_length.info()"
   ]
  },
  {
   "cell_type": "code",
   "execution_count": 33,
   "metadata": {},
   "outputs": [
    {
     "data": {
      "text/html": [
       "<div>\n",
       "<style scoped>\n",
       "    .dataframe tbody tr th:only-of-type {\n",
       "        vertical-align: middle;\n",
       "    }\n",
       "\n",
       "    .dataframe tbody tr th {\n",
       "        vertical-align: top;\n",
       "    }\n",
       "\n",
       "    .dataframe thead th {\n",
       "        text-align: right;\n",
       "    }\n",
       "</style>\n",
       "<table border=\"1\" class=\"dataframe\">\n",
       "  <thead>\n",
       "    <tr style=\"text-align: right;\">\n",
       "      <th></th>\n",
       "      <th>rating</th>\n",
       "      <th>number_of_rentals</th>\n",
       "      <th>film_length</th>\n",
       "    </tr>\n",
       "  </thead>\n",
       "  <tbody>\n",
       "    <tr>\n",
       "      <th>0</th>\n",
       "      <td>PG-13</td>\n",
       "      <td>160</td>\n",
       "      <td>178</td>\n",
       "    </tr>\n",
       "    <tr>\n",
       "      <th>1</th>\n",
       "      <td>NC-17</td>\n",
       "      <td>107</td>\n",
       "      <td>92</td>\n",
       "    </tr>\n",
       "    <tr>\n",
       "      <th>2</th>\n",
       "      <td>R</td>\n",
       "      <td>98</td>\n",
       "      <td>84</td>\n",
       "    </tr>\n",
       "    <tr>\n",
       "      <th>3</th>\n",
       "      <td>PG</td>\n",
       "      <td>93</td>\n",
       "      <td>85</td>\n",
       "    </tr>\n",
       "    <tr>\n",
       "      <th>4</th>\n",
       "      <td>PG</td>\n",
       "      <td>91</td>\n",
       "      <td>114</td>\n",
       "    </tr>\n",
       "  </tbody>\n",
       "</table>\n",
       "</div>"
      ],
      "text/plain": [
       "  rating  number_of_rentals  film_length\n",
       "0  PG-13                160          178\n",
       "1  NC-17                107           92\n",
       "2      R                 98           84\n",
       "3     PG                 93           85\n",
       "4     PG                 91          114"
      ]
     },
     "execution_count": 33,
     "metadata": {},
     "output_type": "execute_result"
    }
   ],
   "source": [
    "rating_rental_length.head(5)"
   ]
  },
  {
   "cell_type": "code",
   "execution_count": 34,
   "metadata": {},
   "outputs": [
    {
     "data": {
      "text/plain": [
       "<seaborn.axisgrid.FacetGrid at 0x7fb5c63a41c0>"
      ]
     },
     "execution_count": 34,
     "metadata": {},
     "output_type": "execute_result"
    },
    {
     "data": {
      "image/png": "[encoded data removed]",
      "text/plain": [
       "<Figure size 426.75x360 with 1 Axes>"
      ]
     },
     "metadata": {
      "needs_background": "light"
     },
     "output_type": "display_data"
    }
   ],
   "source": [
    "sns.lmplot('film_length', 'number_of_rentals',  data=rating_rental_length,\n",
    "           hue = 'rating', fit_reg=False)"
   ]
  },
  {
   "cell_type": "markdown",
   "metadata": {},
   "source": [
    "9. What are the top 5 earning genre or rating of films rented by the customers per store - count and revenue? "
   ]
  },
  {
   "cell_type": "code",
   "execution_count": 35,
   "metadata": {},
   "outputs": [],
   "source": [
    "genre_revenue = pd.read_sql('''\n",
    "SELECT\n",
    "\ts.store_id AS store_id,\n",
    "\tc.name AS genre,\n",
    "    COUNT(DISTINCT r.rental_id) AS rentals,\n",
    "\tSUM(p.amount) AS revenue\n",
    "FROM store AS s\n",
    "\tLEFT JOIN inventory AS i\n",
    "\t\tON i.store_id = s.store_id\n",
    "\tLEFT JOIN film AS f\n",
    "\t\tON f.film_id = i.film_id\n",
    "\tLEFT JOIN film_category AS fc\n",
    "\t\tON f.film_id = fc.film_id\n",
    "\tLEFT JOIN category As c\n",
    "\t\tON fc.category_id = c.category_id\n",
    "\tLEFT JOIN rental AS r\n",
    "\t\tON i.inventory_id = r.inventory_id\n",
    "\tLEFT JOIN payment AS p\n",
    "\t\tON p.rental_id = r.rental_id\n",
    "GROUP BY\n",
    "\ts.store_id,\n",
    "    c.name\n",
    "ORDER BY 1, 3 DESC,4 DESC;\n",
    "''', db);\n"
   ]
  },
  {
   "cell_type": "code",
   "execution_count": 36,
   "metadata": {},
   "outputs": [
    {
     "name": "stdout",
     "output_type": "stream",
     "text": [
      "<class 'pandas.core.frame.DataFrame'>\n",
      "RangeIndex: 32 entries, 0 to 31\n",
      "Data columns (total 4 columns):\n",
      " #   Column    Non-Null Count  Dtype  \n",
      "---  ------    --------------  -----  \n",
      " 0   store_id  32 non-null     int64  \n",
      " 1   genre     32 non-null     object \n",
      " 2   rentals   32 non-null     int64  \n",
      " 3   revenue   32 non-null     float64\n",
      "dtypes: float64(1), int64(2), object(1)\n",
      "memory usage: 1.1+ KB\n"
     ]
    }
   ],
   "source": [
    "genre_revenue.info()"
   ]
  },
  {
   "cell_type": "code",
   "execution_count": 37,
   "metadata": {},
   "outputs": [
    {
     "data": {
      "text/plain": [
       "<seaborn.axisgrid.FacetGrid at 0x7fb5c6b27f10>"
      ]
     },
     "execution_count": 37,
     "metadata": {},
     "output_type": "execute_result"
    },
    {
     "data": {
      "image/png": "[encoded data removed]",
      "text/plain": [
       "<Figure size 360x360 with 1 Axes>"
      ]
     },
     "metadata": {
      "needs_background": "light"
     },
     "output_type": "display_data"
    }
   ],
   "source": [
    "sns.lmplot('rentals', 'revenue', data=genre_revenue, fit_reg=False)"
   ]
  },
  {
   "cell_type": "code",
   "execution_count": 38,
   "metadata": {},
   "outputs": [],
   "source": [
    "\n",
    "# disconnect from server\n",
    "db.close()"
   ]
  },
  {
   "cell_type": "markdown",
   "metadata": {},
   "source": [
    "10. What are the top earning film genres for stocking accordingly?"
   ]
  },
  {
   "cell_type": "code",
   "execution_count": 39,
   "metadata": {},
   "outputs": [
    {
     "ename": "DatabaseError",
     "evalue": "Execution failed on sql: \nWITH rental_enriched\nAS\n(\nSELECT\n\tr.customer_id,\n    CONCAT(c.first_name, ' ', c.last_name) AS customer_name,\n    c.email,\n    ROUND((TIMESTAMPDIFF(HOUR, (LAG (r.rental_date) OVER (PARTITION BY r.customer_id ORDER BY r.rental_date)), r.rental_date))/24, 2) AS days_between_rentals,\n    ROUND((TIMESTAMPDIFF(HOUR, r.rental_date, r.return_date))/24, 2) AS rental_period\n \nFROM\n\trental r\n    INNER JOIN customer c ON r.customer_id = c.customer_id\n),\nrental_summary AS\n(\nSELECT\n\tcustomer_id,\n    customer_name,\n    email,\n    AVG(days_between_rentals) AS avg_days_between_rentals,\n    AVG(rental_period) AS avg_days_rental_period,\n    COUNT(customer_id) AS no_of_rentals\nFROM\n\trental_enriched\nGROUP BY\n\tcustomer_id\n)\nSELECT\ncustomer_id,\ncustomer_name,\nemail,\navg_days_between_rentals,\navg_days_rental_period,\n(CASE WHEN avg_days_between_rentals < avg_days_rental_period THEN 'Multi rentals' ELSE 'Non-Multi rentals' END) AS customer_rental_type\nFROM rental_summary\nGROUP BY\ncustomer_id;\n\n\n(0, '')\nunable to rollback",
     "output_type": "error",
     "traceback": [
      "\u001b[0;31m---------------------------------------------------------------------------\u001b[0m",
      "\u001b[0;31mInterfaceError\u001b[0m                            Traceback (most recent call last)",
      "\u001b[0;32m/opt/anaconda3/lib/python3.8/site-packages/pandas/io/sql.py\u001b[0m in \u001b[0;36mexecute\u001b[0;34m(self, *args, **kwargs)\u001b[0m\n\u001b[1;32m   1585\u001b[0m         \u001b[0;32mtry\u001b[0m\u001b[0;34m:\u001b[0m\u001b[0;34m\u001b[0m\u001b[0;34m\u001b[0m\u001b[0m\n\u001b[0;32m-> 1586\u001b[0;31m             \u001b[0mcur\u001b[0m\u001b[0;34m.\u001b[0m\u001b[0mexecute\u001b[0m\u001b[0;34m(\u001b[0m\u001b[0;34m*\u001b[0m\u001b[0margs\u001b[0m\u001b[0;34m,\u001b[0m \u001b[0;34m**\u001b[0m\u001b[0mkwargs\u001b[0m\u001b[0;34m)\u001b[0m\u001b[0;34m\u001b[0m\u001b[0;34m\u001b[0m\u001b[0m\n\u001b[0m\u001b[1;32m   1587\u001b[0m             \u001b[0;32mreturn\u001b[0m \u001b[0mcur\u001b[0m\u001b[0;34m\u001b[0m\u001b[0;34m\u001b[0m\u001b[0m\n",
      "\u001b[0;32m/opt/anaconda3/lib/python3.8/site-packages/pymysql/cursors.py\u001b[0m in \u001b[0;36mexecute\u001b[0;34m(self, query, args)\u001b[0m\n\u001b[1;32m    162\u001b[0m \u001b[0;34m\u001b[0m\u001b[0m\n\u001b[0;32m--> 163\u001b[0;31m         \u001b[0mresult\u001b[0m \u001b[0;34m=\u001b[0m \u001b[0mself\u001b[0m\u001b[0;34m.\u001b[0m\u001b[0m_query\u001b[0m\u001b[0;34m(\u001b[0m\u001b[0mquery\u001b[0m\u001b[0;34m)\u001b[0m\u001b[0;34m\u001b[0m\u001b[0;34m\u001b[0m\u001b[0m\n\u001b[0m\u001b[1;32m    164\u001b[0m         \u001b[0mself\u001b[0m\u001b[0;34m.\u001b[0m\u001b[0m_executed\u001b[0m \u001b[0;34m=\u001b[0m \u001b[0mquery\u001b[0m\u001b[0;34m\u001b[0m\u001b[0;34m\u001b[0m\u001b[0m\n",
      "\u001b[0;32m/opt/anaconda3/lib/python3.8/site-packages/pymysql/cursors.py\u001b[0m in \u001b[0;36m_query\u001b[0;34m(self, q)\u001b[0m\n\u001b[1;32m    320\u001b[0m         \u001b[0mself\u001b[0m\u001b[0;34m.\u001b[0m\u001b[0m_clear_result\u001b[0m\u001b[0;34m(\u001b[0m\u001b[0;34m)\u001b[0m\u001b[0;34m\u001b[0m\u001b[0;34m\u001b[0m\u001b[0m\n\u001b[0;32m--> 321\u001b[0;31m         \u001b[0mconn\u001b[0m\u001b[0;34m.\u001b[0m\u001b[0mquery\u001b[0m\u001b[0;34m(\u001b[0m\u001b[0mq\u001b[0m\u001b[0;34m)\u001b[0m\u001b[0;34m\u001b[0m\u001b[0;34m\u001b[0m\u001b[0m\n\u001b[0m\u001b[1;32m    322\u001b[0m         \u001b[0mself\u001b[0m\u001b[0;34m.\u001b[0m\u001b[0m_do_get_result\u001b[0m\u001b[0;34m(\u001b[0m\u001b[0;34m)\u001b[0m\u001b[0;34m\u001b[0m\u001b[0;34m\u001b[0m\u001b[0m\n",
      "\u001b[0;32m/opt/anaconda3/lib/python3.8/site-packages/pymysql/connections.py\u001b[0m in \u001b[0;36mquery\u001b[0;34m(self, sql, unbuffered)\u001b[0m\n\u001b[1;32m    503\u001b[0m                 \u001b[0msql\u001b[0m \u001b[0;34m=\u001b[0m \u001b[0msql\u001b[0m\u001b[0;34m.\u001b[0m\u001b[0mencode\u001b[0m\u001b[0;34m(\u001b[0m\u001b[0mself\u001b[0m\u001b[0;34m.\u001b[0m\u001b[0mencoding\u001b[0m\u001b[0;34m,\u001b[0m \u001b[0;34m'surrogateescape'\u001b[0m\u001b[0;34m)\u001b[0m\u001b[0;34m\u001b[0m\u001b[0;34m\u001b[0m\u001b[0m\n\u001b[0;32m--> 504\u001b[0;31m         \u001b[0mself\u001b[0m\u001b[0;34m.\u001b[0m\u001b[0m_execute_command\u001b[0m\u001b[0;34m(\u001b[0m\u001b[0mCOMMAND\u001b[0m\u001b[0;34m.\u001b[0m\u001b[0mCOM_QUERY\u001b[0m\u001b[0;34m,\u001b[0m \u001b[0msql\u001b[0m\u001b[0;34m)\u001b[0m\u001b[0;34m\u001b[0m\u001b[0;34m\u001b[0m\u001b[0m\n\u001b[0m\u001b[1;32m    505\u001b[0m         \u001b[0mself\u001b[0m\u001b[0;34m.\u001b[0m\u001b[0m_affected_rows\u001b[0m \u001b[0;34m=\u001b[0m \u001b[0mself\u001b[0m\u001b[0;34m.\u001b[0m\u001b[0m_read_query_result\u001b[0m\u001b[0;34m(\u001b[0m\u001b[0munbuffered\u001b[0m\u001b[0;34m=\u001b[0m\u001b[0munbuffered\u001b[0m\u001b[0;34m)\u001b[0m\u001b[0;34m\u001b[0m\u001b[0;34m\u001b[0m\u001b[0m\n",
      "\u001b[0;32m/opt/anaconda3/lib/python3.8/site-packages/pymysql/connections.py\u001b[0m in \u001b[0;36m_execute_command\u001b[0;34m(self, command, sql)\u001b[0m\n\u001b[1;32m    741\u001b[0m         \u001b[0;32mif\u001b[0m \u001b[0;32mnot\u001b[0m \u001b[0mself\u001b[0m\u001b[0;34m.\u001b[0m\u001b[0m_sock\u001b[0m\u001b[0;34m:\u001b[0m\u001b[0;34m\u001b[0m\u001b[0;34m\u001b[0m\u001b[0m\n\u001b[0;32m--> 742\u001b[0;31m             \u001b[0;32mraise\u001b[0m \u001b[0merr\u001b[0m\u001b[0;34m.\u001b[0m\u001b[0mInterfaceError\u001b[0m\u001b[0;34m(\u001b[0m\u001b[0;36m0\u001b[0m\u001b[0;34m,\u001b[0m \u001b[0;34m''\u001b[0m\u001b[0;34m)\u001b[0m\u001b[0;34m\u001b[0m\u001b[0;34m\u001b[0m\u001b[0m\n\u001b[0m\u001b[1;32m    743\u001b[0m \u001b[0;34m\u001b[0m\u001b[0m\n",
      "\u001b[0;31mInterfaceError\u001b[0m: (0, '')",
      "\nDuring handling of the above exception, another exception occurred:\n",
      "\u001b[0;31mInterfaceError\u001b[0m                            Traceback (most recent call last)",
      "\u001b[0;32m/opt/anaconda3/lib/python3.8/site-packages/pandas/io/sql.py\u001b[0m in \u001b[0;36mexecute\u001b[0;34m(self, *args, **kwargs)\u001b[0m\n\u001b[1;32m   1589\u001b[0m             \u001b[0;32mtry\u001b[0m\u001b[0;34m:\u001b[0m\u001b[0;34m\u001b[0m\u001b[0;34m\u001b[0m\u001b[0m\n\u001b[0;32m-> 1590\u001b[0;31m                 \u001b[0mself\u001b[0m\u001b[0;34m.\u001b[0m\u001b[0mcon\u001b[0m\u001b[0;34m.\u001b[0m\u001b[0mrollback\u001b[0m\u001b[0;34m(\u001b[0m\u001b[0;34m)\u001b[0m\u001b[0;34m\u001b[0m\u001b[0;34m\u001b[0m\u001b[0m\n\u001b[0m\u001b[1;32m   1591\u001b[0m             \u001b[0;32mexcept\u001b[0m \u001b[0mException\u001b[0m \u001b[0;32mas\u001b[0m \u001b[0minner_exc\u001b[0m\u001b[0;34m:\u001b[0m  \u001b[0;31m# pragma: no cover\u001b[0m\u001b[0;34m\u001b[0m\u001b[0;34m\u001b[0m\u001b[0m\n",
      "\u001b[0;32m/opt/anaconda3/lib/python3.8/site-packages/pymysql/connections.py\u001b[0m in \u001b[0;36mrollback\u001b[0;34m(self)\u001b[0m\n\u001b[1;32m    430\u001b[0m         \"\"\"\n\u001b[0;32m--> 431\u001b[0;31m         \u001b[0mself\u001b[0m\u001b[0;34m.\u001b[0m\u001b[0m_execute_command\u001b[0m\u001b[0;34m(\u001b[0m\u001b[0mCOMMAND\u001b[0m\u001b[0;34m.\u001b[0m\u001b[0mCOM_QUERY\u001b[0m\u001b[0;34m,\u001b[0m \u001b[0;34m\"ROLLBACK\"\u001b[0m\u001b[0;34m)\u001b[0m\u001b[0;34m\u001b[0m\u001b[0;34m\u001b[0m\u001b[0m\n\u001b[0m\u001b[1;32m    432\u001b[0m         \u001b[0mself\u001b[0m\u001b[0;34m.\u001b[0m\u001b[0m_read_ok_packet\u001b[0m\u001b[0;34m(\u001b[0m\u001b[0;34m)\u001b[0m\u001b[0;34m\u001b[0m\u001b[0;34m\u001b[0m\u001b[0m\n",
      "\u001b[0;32m/opt/anaconda3/lib/python3.8/site-packages/pymysql/connections.py\u001b[0m in \u001b[0;36m_execute_command\u001b[0;34m(self, command, sql)\u001b[0m\n\u001b[1;32m    741\u001b[0m         \u001b[0;32mif\u001b[0m \u001b[0;32mnot\u001b[0m \u001b[0mself\u001b[0m\u001b[0;34m.\u001b[0m\u001b[0m_sock\u001b[0m\u001b[0;34m:\u001b[0m\u001b[0;34m\u001b[0m\u001b[0;34m\u001b[0m\u001b[0m\n\u001b[0;32m--> 742\u001b[0;31m             \u001b[0;32mraise\u001b[0m \u001b[0merr\u001b[0m\u001b[0;34m.\u001b[0m\u001b[0mInterfaceError\u001b[0m\u001b[0;34m(\u001b[0m\u001b[0;36m0\u001b[0m\u001b[0;34m,\u001b[0m \u001b[0;34m''\u001b[0m\u001b[0;34m)\u001b[0m\u001b[0;34m\u001b[0m\u001b[0;34m\u001b[0m\u001b[0m\n\u001b[0m\u001b[1;32m    743\u001b[0m \u001b[0;34m\u001b[0m\u001b[0m\n",
      "\u001b[0;31mInterfaceError\u001b[0m: (0, '')",
      "\nThe above exception was the direct cause of the following exception:\n",
      "\u001b[0;31mDatabaseError\u001b[0m                             Traceback (most recent call last)",
      "\u001b[0;32m<ipython-input-39-0af73f19bff5>\u001b[0m in \u001b[0;36m<module>\u001b[0;34m\u001b[0m\n\u001b[0;32m----> 1\u001b[0;31m df1 = pd.read_sql('''\n\u001b[0m\u001b[1;32m      2\u001b[0m \u001b[0mWITH\u001b[0m \u001b[0mrental_enriched\u001b[0m\u001b[0;34m\u001b[0m\u001b[0;34m\u001b[0m\u001b[0m\n\u001b[1;32m      3\u001b[0m \u001b[0mAS\u001b[0m\u001b[0;34m\u001b[0m\u001b[0;34m\u001b[0m\u001b[0m\n\u001b[1;32m      4\u001b[0m (\n\u001b[1;32m      5\u001b[0m \u001b[0mSELECT\u001b[0m\u001b[0;34m\u001b[0m\u001b[0;34m\u001b[0m\u001b[0m\n",
      "\u001b[0;32m/opt/anaconda3/lib/python3.8/site-packages/pandas/io/sql.py\u001b[0m in \u001b[0;36mread_sql\u001b[0;34m(sql, con, index_col, coerce_float, params, parse_dates, columns, chunksize)\u001b[0m\n\u001b[1;32m    404\u001b[0m \u001b[0;34m\u001b[0m\u001b[0m\n\u001b[1;32m    405\u001b[0m     \u001b[0;32mif\u001b[0m \u001b[0misinstance\u001b[0m\u001b[0;34m(\u001b[0m\u001b[0mpandas_sql\u001b[0m\u001b[0;34m,\u001b[0m \u001b[0mSQLiteDatabase\u001b[0m\u001b[0;34m)\u001b[0m\u001b[0;34m:\u001b[0m\u001b[0;34m\u001b[0m\u001b[0;34m\u001b[0m\u001b[0m\n\u001b[0;32m--> 406\u001b[0;31m         return pandas_sql.read_query(\n\u001b[0m\u001b[1;32m    407\u001b[0m             \u001b[0msql\u001b[0m\u001b[0;34m,\u001b[0m\u001b[0;34m\u001b[0m\u001b[0;34m\u001b[0m\u001b[0m\n\u001b[1;32m    408\u001b[0m             \u001b[0mindex_col\u001b[0m\u001b[0;34m=\u001b[0m\u001b[0mindex_col\u001b[0m\u001b[0;34m,\u001b[0m\u001b[0;34m\u001b[0m\u001b[0;34m\u001b[0m\u001b[0m\n",
      "\u001b[0;32m/opt/anaconda3/lib/python3.8/site-packages/pandas/io/sql.py\u001b[0m in \u001b[0;36mread_query\u001b[0;34m(self, sql, index_col, coerce_float, params, parse_dates, chunksize)\u001b[0m\n\u001b[1;32m   1631\u001b[0m \u001b[0;34m\u001b[0m\u001b[0m\n\u001b[1;32m   1632\u001b[0m         \u001b[0margs\u001b[0m \u001b[0;34m=\u001b[0m \u001b[0m_convert_params\u001b[0m\u001b[0;34m(\u001b[0m\u001b[0msql\u001b[0m\u001b[0;34m,\u001b[0m \u001b[0mparams\u001b[0m\u001b[0;34m)\u001b[0m\u001b[0;34m\u001b[0m\u001b[0;34m\u001b[0m\u001b[0m\n\u001b[0;32m-> 1633\u001b[0;31m         \u001b[0mcursor\u001b[0m \u001b[0;34m=\u001b[0m \u001b[0mself\u001b[0m\u001b[0;34m.\u001b[0m\u001b[0mexecute\u001b[0m\u001b[0;34m(\u001b[0m\u001b[0;34m*\u001b[0m\u001b[0margs\u001b[0m\u001b[0;34m)\u001b[0m\u001b[0;34m\u001b[0m\u001b[0;34m\u001b[0m\u001b[0m\n\u001b[0m\u001b[1;32m   1634\u001b[0m         \u001b[0mcolumns\u001b[0m \u001b[0;34m=\u001b[0m \u001b[0;34m[\u001b[0m\u001b[0mcol_desc\u001b[0m\u001b[0;34m[\u001b[0m\u001b[0;36m0\u001b[0m\u001b[0;34m]\u001b[0m \u001b[0;32mfor\u001b[0m \u001b[0mcol_desc\u001b[0m \u001b[0;32min\u001b[0m \u001b[0mcursor\u001b[0m\u001b[0;34m.\u001b[0m\u001b[0mdescription\u001b[0m\u001b[0;34m]\u001b[0m\u001b[0;34m\u001b[0m\u001b[0;34m\u001b[0m\u001b[0m\n\u001b[1;32m   1635\u001b[0m \u001b[0;34m\u001b[0m\u001b[0m\n",
      "\u001b[0;32m/opt/anaconda3/lib/python3.8/site-packages/pandas/io/sql.py\u001b[0m in \u001b[0;36mexecute\u001b[0;34m(self, *args, **kwargs)\u001b[0m\n\u001b[1;32m   1593\u001b[0m                     \u001b[0;34mf\"Execution failed on sql: {args[0]}\\n{exc}\\nunable to rollback\"\u001b[0m\u001b[0;34m\u001b[0m\u001b[0;34m\u001b[0m\u001b[0m\n\u001b[1;32m   1594\u001b[0m                 )\n\u001b[0;32m-> 1595\u001b[0;31m                 \u001b[0;32mraise\u001b[0m \u001b[0mex\u001b[0m \u001b[0;32mfrom\u001b[0m \u001b[0minner_exc\u001b[0m\u001b[0;34m\u001b[0m\u001b[0;34m\u001b[0m\u001b[0m\n\u001b[0m\u001b[1;32m   1596\u001b[0m \u001b[0;34m\u001b[0m\u001b[0m\n\u001b[1;32m   1597\u001b[0m             \u001b[0mex\u001b[0m \u001b[0;34m=\u001b[0m \u001b[0mDatabaseError\u001b[0m\u001b[0;34m(\u001b[0m\u001b[0;34mf\"Execution failed on sql '{args[0]}': {exc}\"\u001b[0m\u001b[0;34m)\u001b[0m\u001b[0;34m\u001b[0m\u001b[0;34m\u001b[0m\u001b[0m\n",
      "\u001b[0;31mDatabaseError\u001b[0m: Execution failed on sql: \nWITH rental_enriched\nAS\n(\nSELECT\n\tr.customer_id,\n    CONCAT(c.first_name, ' ', c.last_name) AS customer_name,\n    c.email,\n    ROUND((TIMESTAMPDIFF(HOUR, (LAG (r.rental_date) OVER (PARTITION BY r.customer_id ORDER BY r.rental_date)), r.rental_date))/24, 2) AS days_between_rentals,\n    ROUND((TIMESTAMPDIFF(HOUR, r.rental_date, r.return_date))/24, 2) AS rental_period\n \nFROM\n\trental r\n    INNER JOIN customer c ON r.customer_id = c.customer_id\n),\nrental_summary AS\n(\nSELECT\n\tcustomer_id,\n    customer_name,\n    email,\n    AVG(days_between_rentals) AS avg_days_between_rentals,\n    AVG(rental_period) AS avg_days_rental_period,\n    COUNT(customer_id) AS no_of_rentals\nFROM\n\trental_enriched\nGROUP BY\n\tcustomer_id\n)\nSELECT\ncustomer_id,\ncustomer_name,\nemail,\navg_days_between_rentals,\navg_days_rental_period,\n(CASE WHEN avg_days_between_rentals < avg_days_rental_period THEN 'Multi rentals' ELSE 'Non-Multi rentals' END) AS customer_rental_type\nFROM rental_summary\nGROUP BY\ncustomer_id;\n\n\n(0, '')\nunable to rollback"
     ]
    }
   ],
   "source": [
    "df1 = pd.read_sql('''\n",
    "WITH rental_enriched\n",
    "AS\n",
    "(\n",
    "SELECT\n",
    "\tr.customer_id,\n",
    "    CONCAT(c.first_name, ' ', c.last_name) AS customer_name,\n",
    "    c.email,\n",
    "    ROUND((TIMESTAMPDIFF(HOUR, (LAG (r.rental_date) OVER (PARTITION BY r.customer_id ORDER BY r.rental_date)), r.rental_date))/24, 2) AS days_between_rentals,\n",
    "    ROUND((TIMESTAMPDIFF(HOUR, r.rental_date, r.return_date))/24, 2) AS rental_period\n",
    " \n",
    "FROM\n",
    "\trental r\n",
    "    INNER JOIN customer c ON r.customer_id = c.customer_id\n",
    "),\n",
    "rental_summary AS\n",
    "(\n",
    "SELECT\n",
    "\tcustomer_id,\n",
    "    customer_name,\n",
    "    email,\n",
    "    AVG(days_between_rentals) AS avg_days_between_rentals,\n",
    "    AVG(rental_period) AS avg_days_rental_period,\n",
    "    COUNT(customer_id) AS no_of_rentals\n",
    "FROM\n",
    "\trental_enriched\n",
    "GROUP BY\n",
    "\tcustomer_id\n",
    ")\n",
    "SELECT\n",
    "customer_id,\n",
    "customer_name,\n",
    "email,\n",
    "avg_days_between_rentals,\n",
    "avg_days_rental_period,\n",
    "(CASE WHEN avg_days_between_rentals < avg_days_rental_period THEN 'Multi rentals' ELSE 'Non-Multi rentals' END) AS customer_rental_type\n",
    "FROM rental_summary\n",
    "GROUP BY\n",
    "customer_id;\n",
    "\n",
    "''', db);"
   ]
  },
  {
   "cell_type": "code",
   "execution_count": null,
   "metadata": {},
   "outputs": [],
   "source": [
    "df1.head()"
   ]
  },
  {
   "cell_type": "code",
   "execution_count": null,
   "metadata": {},
   "outputs": [],
   "source": [
    "plt.pie(df1['customer_rental_type'].value_counts(), labels = df1['customer_rental_type'].value_counts().head().index, autopct='%1.1f%%' )\n",
    "plt.title('Customer Rental Profile Based Split')\n",
    "plt.show()"
   ]
  },
  {
   "cell_type": "code",
   "execution_count": null,
   "metadata": {},
   "outputs": [],
   "source": [
    "count_rental = df1.groupby(by=['customer_rental_type'],as_index=False)['customer_id'].count()\n",
    "count_rental.rename(columns = {'customer_id':'count of customers'},inplace=True)\n",
    "count_rental"
   ]
  },
  {
   "cell_type": "code",
   "execution_count": null,
   "metadata": {},
   "outputs": [],
   "source": [
    "df2 = pd.read_sql('''\n",
    "WITH CTE\n",
    "AS\n",
    "(\n",
    "SELECT \n",
    "\tc.name AS genre,\n",
    "    COUNT(r.rental_id) AS rental_count,\n",
    "    SUM(p.amount) AS rental_earnings\n",
    "FROM\n",
    "\tfilm AS f\n",
    "    LEFT OUTER JOIN film_category AS fc ON f.film_id = fc.film_id\n",
    "    LEFT OUTER JOIN category AS c ON fc.category_id = c.category_id\n",
    "    LEFT OUTER JOIN inventory AS i ON f.film_id = i.film_id\n",
    "    LEFT OUTER JOIN rental AS r ON i.inventory_id = r.inventory_id\n",
    "    LEFT OUTER JOIN payment AS p ON r.rental_id = p.rental_id\n",
    "GROUP BY\n",
    "\tc.name\n",
    ")\n",
    "SELECT\n",
    "\tgenre,\n",
    "    rental_count,\n",
    "    rental_earnings,\n",
    "    NTILE(4) OVER(ORDER BY rental_earnings DESC) AS quartile\n",
    "FROM\n",
    "\tCTE;\n",
    "\n",
    "''', db);"
   ]
  },
  {
   "cell_type": "code",
   "execution_count": null,
   "metadata": {},
   "outputs": [],
   "source": [
    "df2.head(20)"
   ]
  },
  {
   "cell_type": "code",
   "execution_count": null,
   "metadata": {},
   "outputs": [],
   "source": [
    "sns.barplot(x='rental_earnings', y='genre',hue='quartile',data=df2)\n",
    "plt.legend(bbox_to_anchor=(1.05, 1), loc=2, borderaxespad=0.)\n",
    "plt.title('Quartile Distribution Of Top Rental Earning Genres')\n",
    "plt.show()"
   ]
  },
  {
   "cell_type": "code",
   "execution_count": null,
   "metadata": {},
   "outputs": [],
   "source": [
    "df3 = pd.read_sql('''\n",
    "WITH CTE\n",
    "AS\n",
    "(\n",
    "SELECT\n",
    "\tf.rating,\n",
    "\tf.title AS film_name,\n",
    "    SUM(p.amount) AS earnings,\n",
    "    COUNT(f.title) as count_films\n",
    "FROM\n",
    "\tactor AS a\n",
    "    LEFT OUTER JOIN film_actor AS fa ON a.actor_id = fa.film_id\n",
    "    LEFT OUTER JOIN film AS f ON fa.film_id = f.film_id\n",
    "    LEFT OUTER JOIN inventory AS i ON f.film_id = i.film_id\n",
    "    LEFT OUTER JOIN rental AS r ON i.inventory_id = r.inventory_id\n",
    "    LEFT OUTER JOIN payment AS p ON r.rental_id = p.rental_id\n",
    "GROUP BY\n",
    "\tf.rating\n",
    "ORDER BY\n",
    "earnings\n",
    ")\n",
    "SELECT\n",
    "\trating,\n",
    "\tearnings,\n",
    "    count_films,\n",
    "    NTILE(4) OVER(PARTITION BY rating ORDER BY earnings DESC) AS bucket\n",
    "FROM\n",
    "\tCTE;\n",
    "\n",
    "''', db);"
   ]
  },
  {
   "cell_type": "code",
   "execution_count": null,
   "metadata": {},
   "outputs": [],
   "source": [
    "df3.head(10)"
   ]
  },
  {
   "cell_type": "code",
   "execution_count": null,
   "metadata": {},
   "outputs": [],
   "source": []
  }
 ],
 "metadata": {
  "kernelspec": {
   "display_name": "Python 3",
   "language": "python",
   "name": "python3"
  },
  "language_info": {
   "codemirror_mode": {
    "name": "ipython",
    "version": 3
   },
   "file_extension": ".py",
   "mimetype": "text/x-python",
   "name": "python",
   "nbconvert_exporter": "python",
   "pygments_lexer": "ipython3",
   "version": "3.8.3"
  }
 },
 "nbformat": 4,
 "nbformat_minor": 4
}
